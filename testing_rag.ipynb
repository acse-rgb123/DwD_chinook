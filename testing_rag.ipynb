{
  "cells": [
    {
      "cell_type": "code",
      "execution_count": 1,
      "metadata": {},
      "outputs": [
        {
          "name": "stderr",
          "output_type": "stream",
          "text": [
            "c:\\Program Files\\Python311\\Lib\\site-packages\\tqdm\\auto.py:21: TqdmWarning: IProgress not found. Please update jupyter and ipywidgets. See https://ipywidgets.readthedocs.io/en/stable/user_install.html\n",
            "  from .autonotebook import tqdm as notebook_tqdm\n"
          ]
        },
        {
          "name": "stdout",
          "output_type": "stream",
          "text": [
            "Retrieved relevant documents based on similarity threshold of 0.8:\n",
            "Extracting schema and foreign key relationships...\n",
            "Extracting keywords using RoBERTa...\n",
            "Extracted Keywords:\n",
            "0          different genres\n",
            "1                 different\n",
            "2            have purchased\n",
            "3     have purchased tracks\n",
            "4                      List\n",
            "5     purchased tracks from\n",
            "6                 customers\n",
            "7                    genres\n",
            "8        List customers who\n",
            "9        customers who have\n",
            "10                     more\n",
            "11                     than\n",
            "12                purchased\n",
            "13                      who\n",
            "14                from more\n",
            "15       who have purchased\n",
            "16         tracks from more\n",
            "17           List customers\n",
            "18                   tracks\n",
            "19           from more than\n",
            "20         purchased tracks\n",
            "21                more than\n",
            "22                 who have\n",
            "23              tracks from\n",
            "24                     from\n",
            "25            customers who\n",
            "26                     have\n",
            "dtype: object\n",
            "Mapping keywords to schema and creating subgraph with valid joins...\n"
          ]
        },
        {
          "ename": "NameError",
          "evalue": "name 'pd' is not defined",
          "output_type": "error",
          "traceback": [
            "\u001b[1;31m---------------------------------------------------------------------------\u001b[0m",
            "\u001b[1;31mNameError\u001b[0m                                 Traceback (most recent call last)",
            "Cell \u001b[1;32mIn[1], line 14\u001b[0m\n\u001b[0;32m     11\u001b[0m pipeline \u001b[39m=\u001b[39m Pipeline(db_file, user_query, pdf_path)\n\u001b[0;32m     13\u001b[0m \u001b[39m# Run the pipeline\u001b[39;00m\n\u001b[1;32m---> 14\u001b[0m analysis \u001b[39m=\u001b[39m pipeline\u001b[39m.\u001b[39;49mrun()\n\u001b[0;32m     16\u001b[0m \u001b[39mprint\u001b[39m(analysis)\n",
            "File \u001b[1;32mc:\\Users\\Admin\\Documents\\DwD_titanic\\modules\\pipeline.py:138\u001b[0m, in \u001b[0;36mPipeline.run\u001b[1;34m(self)\u001b[0m\n\u001b[0;32m    134\u001b[0m schema, foreign_keys \u001b[39m=\u001b[39m \u001b[39mself\u001b[39m\u001b[39m.\u001b[39mextract_schema_and_foreign_keys()\n\u001b[0;32m    136\u001b[0m keywords \u001b[39m=\u001b[39m \u001b[39mself\u001b[39m\u001b[39m.\u001b[39mextract_keywords()\n\u001b[1;32m--> 138\u001b[0m relevant_columns, joins \u001b[39m=\u001b[39m \u001b[39mself\u001b[39;49m\u001b[39m.\u001b[39;49mmap_keywords_to_schema(schema, foreign_keys, keywords)\n\u001b[0;32m    140\u001b[0m sql_query \u001b[39m=\u001b[39m \u001b[39mself\u001b[39m\u001b[39m.\u001b[39mgenerate_sql(relevant_columns, joins, relevant_docs)\n\u001b[0;32m    142\u001b[0m result_df \u001b[39m=\u001b[39m \u001b[39mself\u001b[39m\u001b[39m.\u001b[39mexecute_sql(sql_query)\n",
            "File \u001b[1;32mc:\\Users\\Admin\\Documents\\DwD_titanic\\modules\\pipeline.py:59\u001b[0m, in \u001b[0;36mPipeline.map_keywords_to_schema\u001b[1;34m(self, schema, foreign_keys, keywords)\u001b[0m\n\u001b[0;32m     56\u001b[0m relevant_tables \u001b[39m=\u001b[39m schema_mapper\u001b[39m.\u001b[39midentify_relevant_tables(keywords)\n\u001b[0;32m     58\u001b[0m \u001b[39m# Map keywords to columns using identified relevant tables\u001b[39;00m\n\u001b[1;32m---> 59\u001b[0m mapped_columns \u001b[39m=\u001b[39m schema_mapper\u001b[39m.\u001b[39;49mmap_keywords_to_columns(keywords, relevant_tables)\n\u001b[0;32m     61\u001b[0m \u001b[39m# Create a placeholder for subgraph and join paths\u001b[39;00m\n\u001b[0;32m     62\u001b[0m subgraph \u001b[39m=\u001b[39m nx\u001b[39m.\u001b[39mGraph()  \u001b[39m# Initialize an empty graph for the subgraph\u001b[39;00m\n",
            "File \u001b[1;32mc:\\Users\\Admin\\Documents\\DwD_titanic\\modules\\schema_mapper.py:45\u001b[0m, in \u001b[0;36mSchemaMapper.map_keywords_to_columns\u001b[1;34m(self, keywords, relevant_tables, similarity_threshold)\u001b[0m\n\u001b[0;32m     42\u001b[0m     mapped_columns[keyword] \u001b[39m=\u001b[39m best_matches\n\u001b[0;32m     44\u001b[0m \u001b[39m# Print similarity scores as a DataFrame\u001b[39;00m\n\u001b[1;32m---> 45\u001b[0m similarity_df \u001b[39m=\u001b[39m pd\u001b[39m.\u001b[39mDataFrame(similarity_scores, columns\u001b[39m=\u001b[39m[\u001b[39m'\u001b[39m\u001b[39mKeyword\u001b[39m\u001b[39m'\u001b[39m, \u001b[39m'\u001b[39m\u001b[39mColumn\u001b[39m\u001b[39m'\u001b[39m, \u001b[39m'\u001b[39m\u001b[39mSimilarity\u001b[39m\u001b[39m'\u001b[39m])\n\u001b[0;32m     46\u001b[0m \u001b[39mprint\u001b[39m(\u001b[39m\"\u001b[39m\u001b[39m\\n\u001b[39;00m\u001b[39mSimilarity Scores between Keywords and Columns:\u001b[39m\u001b[39m\"\u001b[39m)\n\u001b[0;32m     47\u001b[0m \u001b[39mprint\u001b[39m(similarity_df)\n",
            "\u001b[1;31mNameError\u001b[0m: name 'pd' is not defined"
          ]
        }
      ],
      "source": [
        "from modules.pipeline import Pipeline\n",
        "import openai\n",
        "openai.api_key = 'sk-_ynWP8bFt1E-Lg6ZxIAt8YV1fdB8qU1SMkWCqMVRtmT3BlbkFJ_FWv5x5Oz1lT6vhGwUtODMSKo36FCBHBW30fYvD3sA' \n",
        "\n",
        "# Set the path to your SQLite database and the PDF documentation\n",
        "db_file = 'chinook-database-master/ChinookDatabase/DataSources/Chinook_Sqlite.sqlite'\n",
        "pdf_path = 'Chinook_Database_Enriched_Documentation.pdf'\n",
        "user_query = \"List customers who have purchased tracks from more than 2 different genres.\"\n",
        "\n",
        "# Initialize the pipeline\n",
        "pipeline = Pipeline(db_file, user_query, pdf_path)\n",
        "\n",
        "# Run the pipeline\n",
        "analysis = pipeline.run()\n",
        "\n",
        "print(analysis)\n"
      ]
    },
    {
      "cell_type": "code",
      "execution_count": 2,
      "metadata": {},
      "outputs": [
        {
          "ename": "NameError",
          "evalue": "name 'run_full_pipeline' is not defined",
          "output_type": "error",
          "traceback": [
            "\u001b[1;31m---------------------------------------------------------------------------\u001b[0m",
            "\u001b[1;31mNameError\u001b[0m                                 Traceback (most recent call last)",
            "Cell \u001b[1;32mIn[2], line 4\u001b[0m\n\u001b[0;32m      2\u001b[0m db_file \u001b[39m=\u001b[39m \u001b[39m'\u001b[39m\u001b[39mchinook-database-master/ChinookDatabase/DataSources/Chinook_Sqlite.sqlite\u001b[39m\u001b[39m'\u001b[39m\n\u001b[0;32m      3\u001b[0m user_query \u001b[39m=\u001b[39m \u001b[39m\"\u001b[39m\u001b[39m List all employees who have sold tracks to customers in the same city.\u001b[39m\u001b[39m\"\u001b[39m\n\u001b[1;32m----> 4\u001b[0m run_full_pipeline(user_query, db_file, pdf_file_path)\n\u001b[0;32m      6\u001b[0m \u001b[39m\"\"\"\u001b[39;00m\n\u001b[0;32m      7\u001b[0m \n\u001b[0;32m      8\u001b[0m \u001b[39mSELECT Customer.FirstName, Customer.LastName, COUNT(DISTINCT Genre.Name) AS GenreCount\u001b[39;00m\n\u001b[1;32m   (...)\u001b[0m\n\u001b[0;32m     17\u001b[0m \n\u001b[0;32m     18\u001b[0m \u001b[39m\"\"\"\u001b[39;00m\n",
            "\u001b[1;31mNameError\u001b[0m: name 'run_full_pipeline' is not defined"
          ]
        }
      ],
      "source": [
        "# Run the full pipeline\n",
        "db_file = 'chinook-database-master/ChinookDatabase/DataSources/Chinook_Sqlite.sqlite'\n",
        "user_query = \" List all employees who have sold tracks to customers in the same city.\"\n",
        "run_full_pipeline(user_query, db_file, pdf_file_path)\n",
        "\n",
        "\"\"\"\n",
        "\n",
        "SELECT Customer.FirstName, Customer.LastName, COUNT(DISTINCT Genre.Name) AS GenreCount\n",
        "FROM Customer\n",
        "JOIN Invoice ON Customer.CustomerId = Invoice.CustomerId\n",
        "JOIN InvoiceLine ON Invoice.InvoiceId = InvoiceLine.InvoiceId\n",
        "JOIN Track ON InvoiceLine.TrackId = Track.TrackId\n",
        "JOIN Genre ON Track.GenreId = Genre.GenreId\n",
        "GROUP BY Customer.CustomerId\n",
        "HAVING GenreCount > 2;\n",
        "\n",
        "\n",
        "\"\"\"\n",
        "\n"
      ]
    },
    {
      "cell_type": "code",
      "execution_count": null,
      "metadata": {},
      "outputs": [],
      "source": [
        "# Run the full pipeline\n",
        "user_query = \" List all employees who have sold tracks to customers in the same city.\"\n",
        "run_pipeline_with_semantic_search(user_query, db_file)\n",
        "\n",
        "\"\"\"\n",
        "\n",
        "SELECT Employee.FirstName, Employee.LastName, Customer.FirstName AS CustomerFirstName, Customer.LastName AS CustomerLastName, Customer.City\n",
        "FROM Employee\n",
        "JOIN Customer ON Employee.City = Customer.City\n",
        "JOIN Invoice ON Customer.CustomerId = Invoice.CustomerId\n",
        "JOIN InvoiceLine ON Invoice.InvoiceId = InvoiceLine.InvoiceId\n",
        "WHERE Employee.EmployeeId = InvoiceLine.InvoiceId;\n",
        "\n",
        "\n",
        "\n",
        "\"\"\""
      ]
    },
    {
      "cell_type": "code",
      "execution_count": null,
      "metadata": {},
      "outputs": [],
      "source": [
        "# Import the necessary libraries\n",
        "from eralchemy import render_er\n",
        "from IPython.display import Image\n",
        "import os\n",
        "\n",
        "# Get the absolute path to your SQLite database\n",
        "db_path = os.path.abspath('chinook-database-master/ChinookDatabase/DataSources/Chinook_Sqlite.sqlite')\n",
        "\n",
        "# Form the correct SQLAlchemy URL\n",
        "db_url = f'sqlite:///{db_path}'\n",
        "\n",
        "# Generate ERD and save it as a PNG image\n",
        "output_file = 'chinook_erd.png'\n",
        "render_er(db_url, output_file)\n",
        "\n",
        "# Display the generated ERD\n",
        "img = Image(output_file)\n",
        "img\n"
      ]
    }
  ],
  "metadata": {
    "accelerator": "GPU",
    "colab": {
      "gpuType": "A100",
      "machine_shape": "hm",
      "name": "Making the Most of your Colab Subscription",
      "provenance": []
    },
    "kernelspec": {
      "display_name": "Python 3",
      "language": "python",
      "name": "python3"
    },
    "language_info": {
      "codemirror_mode": {
        "name": "ipython",
        "version": 3
      },
      "file_extension": ".py",
      "mimetype": "text/x-python",
      "name": "python",
      "nbconvert_exporter": "python",
      "pygments_lexer": "ipython3",
      "version": "3.11.4"
    }
  },
  "nbformat": 4,
  "nbformat_minor": 0
}
